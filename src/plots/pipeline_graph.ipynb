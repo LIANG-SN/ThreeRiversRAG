{
 "cells": [
  {
   "cell_type": "code",
   "execution_count": 2,
   "metadata": {},
   "outputs": [
    {
     "data": {
      "text/plain": [
       "'rag_pipeline.png'"
      ]
     },
     "execution_count": 2,
     "metadata": {},
     "output_type": "execute_result"
    }
   ],
   "source": [
    "from graphviz import Digraph\n",
    "\n",
    "dot = Digraph()\n",
    "\n",
    "# Indexing phase\n",
    "dot.node(\"A\", \"Raw Text Corpus\")\n",
    "dot.node(\"B\", \"Text Chunking\\n+ Overlap\")\n",
    "dot.node(\"C\", \"Embedding Model\")\n",
    "dot.node(\"D\", \"Vector Database\\n(FAISS / Chroma)\")\n",
    "\n",
    "# Inference phase\n",
    "dot.node(\"E\", \"User Question\")\n",
    "dot.node(\"F\", \"Embedding Model\\n(same as above)\")\n",
    "dot.node(\"G\", \"Retriever\\n(Top-k Similarity Search)\")\n",
    "dot.node(\"H\", \"Retrieved Chunks + Question\\n+ Prompt Template\")\n",
    "dot.node(\"I\", \"Generation Model\\n(Qwen / T5)\")\n",
    "dot.node(\"J\", \"Final Answer\")\n",
    "\n",
    "# Arrows\n",
    "dot.edges([(\"A\", \"B\"), (\"B\", \"C\"), (\"C\", \"D\")])\n",
    "dot.edges([(\"E\", \"F\"), (\"F\", \"G\"), (\"D\", \"G\"), (\"G\", \"H\"), (\"H\", \"I\"), (\"I\", \"J\")])\n",
    "\n",
    "# Display the graph\n",
    "dot.render(\"rag_pipeline\", format=\"png\", cleanup=False)"
   ]
  },
  {
   "cell_type": "code",
   "execution_count": null,
   "metadata": {},
   "outputs": [],
   "source": []
  }
 ],
 "metadata": {
  "kernelspec": {
   "display_name": "anlp",
   "language": "python",
   "name": "python3"
  },
  "language_info": {
   "codemirror_mode": {
    "name": "ipython",
    "version": 3
   },
   "file_extension": ".py",
   "mimetype": "text/x-python",
   "name": "python",
   "nbconvert_exporter": "python",
   "pygments_lexer": "ipython3",
   "version": "3.11.11"
  }
 },
 "nbformat": 4,
 "nbformat_minor": 2
}
