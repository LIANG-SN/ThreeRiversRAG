{
 "cells": [
  {
   "cell_type": "code",
   "execution_count": 3,
   "metadata": {},
   "outputs": [
    {
     "name": "stdout",
     "output_type": "stream",
     "text": [
      "JSON saved to /home/ubuntu/ThreeRiversRAG/data/system_outputs/system_output_3.json\n"
     ]
    }
   ],
   "source": [
    "import pandas as pd\n",
    "import json\n",
    "\n",
    "# Load the CSV file\n",
    "csv_path = \"/home/ubuntu/ThreeRiversRAG/data/output/output.csv\"\n",
    "df = pd.read_csv(csv_path)\n",
    "\n",
    "# Convert to dictionary with numeric string keys\n",
    "json_dict = {str(i+1): answer for i, answer in enumerate(df['Predictions'])}\n",
    "\n",
    "# Save to JSON file\n",
    "output_path = \"/home/ubuntu/ThreeRiversRAG/data/system_outputs/system_output_3.json\"\n",
    "with open(output_path, 'w') as f:\n",
    "    json.dump(json_dict, f, indent=2)\n",
    "\n",
    "print(f\"JSON saved to {output_path}\")"
   ]
  },
  {
   "cell_type": "code",
   "execution_count": null,
   "metadata": {},
   "outputs": [],
   "source": []
  }
 ],
 "metadata": {
  "kernelspec": {
   "display_name": "anlp",
   "language": "python",
   "name": "python3"
  },
  "language_info": {
   "codemirror_mode": {
    "name": "ipython",
    "version": 3
   },
   "file_extension": ".py",
   "mimetype": "text/x-python",
   "name": "python",
   "nbconvert_exporter": "python",
   "pygments_lexer": "ipython3",
   "version": "3.11.11"
  }
 },
 "nbformat": 4,
 "nbformat_minor": 2
}
