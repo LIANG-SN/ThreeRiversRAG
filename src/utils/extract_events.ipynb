{
 "cells": [
  {
   "cell_type": "code",
   "execution_count": 1,
   "metadata": {},
   "outputs": [],
   "source": [
    "import pandas as pd\n",
    "\n",
    "# Define the set of event sources\n",
    "events_list = {\n",
    "    \"CMU_commencement\", \"Pittsburgh Opera\", \"The Frick\", \"Pitts_Opera_Support\", \"pittsburgh_opera_10\",\n",
    "    \"Upcoming_Events\", \"Food Festivals\", \"Picklesburgh\", \"Pittsburgh Taco Fest\",\n",
    "    \"Pittsburgh Restaurant Week\", \"2022_Restaurant\", \"Picklesburgh_KDKA\", \"Summer_food_program\",\n",
    "    \"PIttsburgh events calendar\", \"CMU events calendar\", \"Campus Events Page\", \"Events_pitts_page8\",\n",
    "    \"PGH_event\", \"Pittsburgh_Events\", \"Little Italy Days\"\n",
    "}\n",
    "\n",
    "# Load the CSV\n",
    "df = pd.read_csv(\"/home/ubuntu/ThreeRiversRAG/data/annotation_data/annotation_qa/annotation_test_v3.csv\")\n",
    "\n",
    "# Filter based on whether \"Source\" is in events_list\n",
    "df_event = df[df[\"Source\"].isin(events_list)]\n",
    "df_general = df[~df[\"Source\"].isin(events_list)]"
   ]
  },
  {
   "cell_type": "code",
   "execution_count": 2,
   "metadata": {},
   "outputs": [
    {
     "name": "stdout",
     "output_type": "stream",
     "text": [
      "num events: 151\n",
      "num general: 413\n"
     ]
    }
   ],
   "source": [
    "print(f\"num events: {len(df_event)}\")\n",
    "print(f\"num general: {len(df_general)}\")"
   ]
  },
  {
   "cell_type": "code",
   "execution_count": 4,
   "metadata": {},
   "outputs": [],
   "source": [
    "df_event.to_csv(\"/home/ubuntu/ThreeRiversRAG/data/annotation_data/annotation_qa/events_questions_v3.csv\", index=False)\n",
    "df_general.to_csv(\"/home/ubuntu/ThreeRiversRAG/data/annotation_data/annotation_qa/general_questions_v3.csv\", index=False)"
   ]
  },
  {
   "cell_type": "code",
   "execution_count": null,
   "metadata": {},
   "outputs": [],
   "source": []
  }
 ],
 "metadata": {
  "kernelspec": {
   "display_name": "anlp",
   "language": "python",
   "name": "python3"
  },
  "language_info": {
   "codemirror_mode": {
    "name": "ipython",
    "version": 3
   },
   "file_extension": ".py",
   "mimetype": "text/x-python",
   "name": "python",
   "nbconvert_exporter": "python",
   "pygments_lexer": "ipython3",
   "version": "3.11.11"
  }
 },
 "nbformat": 4,
 "nbformat_minor": 2
}
